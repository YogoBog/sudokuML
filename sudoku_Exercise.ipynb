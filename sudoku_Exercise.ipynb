{
  "cells": [
    {
      "cell_type": "markdown",
      "metadata": {
        "id": "view-in-github",
        "colab_type": "text"
      },
      "source": [
        "<a href=\"https://colab.research.google.com/github/YogoBog/sudokuML/blob/main/sudoku_Exercise.ipynb\" target=\"_parent\"><img src=\"https://colab.research.google.com/assets/colab-badge.svg\" alt=\"Open In Colab\"/></a>"
      ]
    },
    {
      "cell_type": "code",
      "execution_count": null,
      "metadata": {
        "colab": {
          "base_uri": "https://localhost:8080/"
        },
        "id": "81bf3bbc",
        "outputId": "13a75aa4-d9aa-48f2-af4e-4e39965cc15a"
      },
      "outputs": [
        {
          "output_type": "stream",
          "name": "stdout",
          "text": [
            "Collecting py-sudoku\n",
            "  Downloading py_sudoku-1.0.3-py3-none-any.whl (7.1 kB)\n",
            "Installing collected packages: py-sudoku\n",
            "Successfully installed py-sudoku-1.0.3\n"
          ]
        }
      ],
      "source": [
        "pip install py-sudoku"
      ],
      "id": "81bf3bbc"
    },
    {
      "cell_type": "code",
      "execution_count": null,
      "metadata": {
        "colab": {
          "base_uri": "https://localhost:8080/"
        },
        "id": "22ef1a24",
        "outputId": "1ef24703-de78-41e6-80db-526d7883e648"
      },
      "outputs": [
        {
          "output_type": "stream",
          "name": "stdout",
          "text": [
            "Requirement already satisfied: numpy in /usr/local/lib/python3.10/dist-packages (1.25.2)\n"
          ]
        }
      ],
      "source": [
        "pip install numpy"
      ],
      "id": "22ef1a24"
    },
    {
      "cell_type": "code",
      "execution_count": null,
      "metadata": {
        "colab": {
          "base_uri": "https://localhost:8080/"
        },
        "id": "7a2f177a",
        "outputId": "c49986fa-7d13-45ec-b6f9-4c7e8519a7c1"
      },
      "outputs": [
        {
          "output_type": "stream",
          "name": "stdout",
          "text": [
            "Requirement already satisfied: matplotlib in /usr/local/lib/python3.10/dist-packages (3.7.1)\n",
            "Requirement already satisfied: contourpy>=1.0.1 in /usr/local/lib/python3.10/dist-packages (from matplotlib) (1.2.1)\n",
            "Requirement already satisfied: cycler>=0.10 in /usr/local/lib/python3.10/dist-packages (from matplotlib) (0.12.1)\n",
            "Requirement already satisfied: fonttools>=4.22.0 in /usr/local/lib/python3.10/dist-packages (from matplotlib) (4.51.0)\n",
            "Requirement already satisfied: kiwisolver>=1.0.1 in /usr/local/lib/python3.10/dist-packages (from matplotlib) (1.4.5)\n",
            "Requirement already satisfied: numpy>=1.20 in /usr/local/lib/python3.10/dist-packages (from matplotlib) (1.25.2)\n",
            "Requirement already satisfied: packaging>=20.0 in /usr/local/lib/python3.10/dist-packages (from matplotlib) (24.0)\n",
            "Requirement already satisfied: pillow>=6.2.0 in /usr/local/lib/python3.10/dist-packages (from matplotlib) (9.4.0)\n",
            "Requirement already satisfied: pyparsing>=2.3.1 in /usr/local/lib/python3.10/dist-packages (from matplotlib) (3.1.2)\n",
            "Requirement already satisfied: python-dateutil>=2.7 in /usr/local/lib/python3.10/dist-packages (from matplotlib) (2.8.2)\n",
            "Requirement already satisfied: six>=1.5 in /usr/local/lib/python3.10/dist-packages (from python-dateutil>=2.7->matplotlib) (1.16.0)\n"
          ]
        }
      ],
      "source": [
        "pip install matplotlib"
      ],
      "id": "7a2f177a"
    },
    {
      "cell_type": "code",
      "execution_count": null,
      "metadata": {
        "id": "732a31cb"
      },
      "outputs": [],
      "source": [
        "import numpy as np\n",
        "from hashlib import sha256\n",
        "import matplotlib.pyplot as plt"
      ],
      "id": "732a31cb"
    },
    {
      "cell_type": "code",
      "execution_count": null,
      "metadata": {
        "id": "261e3e35"
      },
      "outputs": [],
      "source": [
        "from sudoku import Sudoku\n"
      ],
      "id": "261e3e35"
    },
    {
      "cell_type": "code",
      "execution_count": null,
      "metadata": {
        "id": "5c7f27bc"
      },
      "outputs": [],
      "source": [
        "def show_board(board):\n",
        "    table = ''\n",
        "    height = len(board)//3\n",
        "    width = len(board[0])//3\n",
        "    size = height*width\n",
        "    cell_length = len(str(size))\n",
        "    _empty_cell_value = None\n",
        "    format_int = '{0:0' + str(cell_length) + 'd}'\n",
        "    for i, row in enumerate(board):\n",
        "        if i == 0:\n",
        "            table += ('+-' + '-' * (cell_length + 1) *\n",
        "                      width) * height + '+' + '\\n'\n",
        "        table += (('| ' + '{} ' * width) * height + '|').format(*[format_int.format(\n",
        "            x) if x != _empty_cell_value else ' ' * cell_length for x in row]) + '\\n'\n",
        "        if i == size - 1 or i % height == height - 1:\n",
        "            table += ('+-' + '-' * (cell_length + 1) *\n",
        "                      width) * height + '+' + '\\n'\n",
        "    print(table)"
      ],
      "id": "5c7f27bc"
    },
    {
      "cell_type": "code",
      "source": [
        "def group_invalid(group):\n",
        "    group = [i for i in group if i is not None]\n",
        "    if min(group) < 1 or max(group) > 9 or len(set(group)) != len(group):\n",
        "        return True\n",
        "    return False"
      ],
      "metadata": {
        "id": "u28zT-Z66OOO"
      },
      "id": "u28zT-Z66OOO",
      "execution_count": null,
      "outputs": []
    },
    {
      "cell_type": "code",
      "source": [
        "def break_board_to_squares(board):\n",
        "    squares = []\n",
        "    np_board = np.array(board)\n",
        "    prev_idx = 0\n",
        "    for idx in (3,6,9):\n",
        "        prev_idy = 0\n",
        "        for idy in (3,6,9):\n",
        "            squares.append(np_board[prev_idx:idx, prev_idy:idy])\n",
        "            prev_idy = idy\n",
        "        prev_idx = idx\n",
        "    return squares"
      ],
      "metadata": {
        "id": "Sv3JoRIZ7ViB"
      },
      "id": "Sv3JoRIZ7ViB",
      "execution_count": null,
      "outputs": []
    },
    {
      "cell_type": "code",
      "source": [
        "def validate(board):\n",
        "    for structure in (board, np.transpose(board)):\n",
        "        for line in structure:\n",
        "            if group_invalid(line):\n",
        "                return False\n",
        "    for square in break_board_to_squares(board):\n",
        "      if group_invalid(square.flatten()):\n",
        "        return False\n",
        "    return True"
      ],
      "metadata": {
        "id": "elVwmFha9Dik"
      },
      "id": "elVwmFha9Dik",
      "execution_count": null,
      "outputs": []
    },
    {
      "cell_type": "code",
      "execution_count": null,
      "metadata": {
        "id": "53b32e36"
      },
      "outputs": [],
      "source": [
        "def check_win(board):\n",
        "    return None not in np.array(board).flatten() and validate(board)"
      ],
      "id": "53b32e36"
    },
    {
      "cell_type": "code",
      "source": [
        "class move():\n",
        "    def __init__(self, row, column, value):\n",
        "        self.row = row\n",
        "        self.column = column\n",
        "        self.value = value"
      ],
      "metadata": {
        "id": "5Uocrsb3-imC"
      },
      "id": "5Uocrsb3-imC",
      "execution_count": null,
      "outputs": []
    },
    {
      "cell_type": "code",
      "execution_count": null,
      "metadata": {
        "id": "b24cc747"
      },
      "outputs": [],
      "source": [
        "\n",
        "def get_next_moves(board):\n",
        "    moves = []\n",
        "    for idx, i in enumerate(board):\n",
        "        for jdx, j in enumerate(i):\n",
        "            if j is None:\n",
        "                for value in range(1,10):\n",
        "                    moves.append(move(idx,jdx,value))\n",
        "    return moves"
      ],
      "id": "b24cc747"
    },
    {
      "cell_type": "code",
      "execution_count": null,
      "metadata": {
        "id": "1b5c9ecc"
      },
      "outputs": [],
      "source": [
        "from copy import deepcopy\n",
        "\n",
        "def get_board_string(board):\n",
        "    return str(np.array(board).flatten())\n",
        "\n",
        "def possible_moves(board):\n",
        "    moves = get_next_moves(board)\n",
        "    results = []\n",
        "    if moves:\n",
        "        for move in moves:\n",
        "            this_board = deepcopy(board)\n",
        "            this_board[move.row][move.column] = move.value\n",
        "            if validate(this_board):\n",
        "              board_string = get_board_string(this_board)\n",
        "              results.append((board_string, this_board))\n",
        "    return results"
      ],
      "id": "1b5c9ecc"
    },
    {
      "cell_type": "code",
      "source": [
        "def brute_force(start):\n",
        "    visited = set()\n",
        "    board_string = get_board_string(start)\n",
        "    stack = [start]\n",
        "    stack_set = set()\n",
        "    stack_set.add(board_string)\n",
        "    stack_len = []\n",
        "    idx = 0\n",
        "    while stack:\n",
        "        vertex = stack.pop()\n",
        "        board_string = get_board_string(vertex)\n",
        "        if check_win(vertex):\n",
        "            print('solved')\n",
        "            show_board(vertex)\n",
        "            return vertex, stack_len\n",
        "        if board_string not in visited:\n",
        "            visited.add(board_string)\n",
        "            moves = possible_moves(vertex)\n",
        "            stack.extend([i[1] for i in moves if i[0] not in stack_set and i[0] not in visited])\n",
        "            stack_set.update([i[0] for i in moves])\n",
        "            stack_len.append(len(stack))\n",
        "        if idx % 1000 == 0:\n",
        "            print(idx, len(visited))\n",
        "        idx+=1\n",
        "    return \"no possible solution\", stack_len"
      ],
      "metadata": {
        "id": "F6CTUbJIEQPp"
      },
      "id": "F6CTUbJIEQPp",
      "execution_count": null,
      "outputs": []
    },
    {
      "cell_type": "code",
      "source": [
        "puzzle_easy = Sudoku(3).difficulty(0.05)\n",
        "show_board(puzzle_easy.board)\n"
      ],
      "metadata": {
        "id": "vDhqFAbAPgof",
        "colab": {
          "base_uri": "https://localhost:8080/"
        },
        "outputId": "bb646c08-d5b1-4c91-9411-b61aa8ee267d"
      },
      "id": "vDhqFAbAPgof",
      "execution_count": null,
      "outputs": [
        {
          "output_type": "stream",
          "name": "stdout",
          "text": [
            "+-------+-------+-------+\n",
            "| 2 5 1 | 6 4   | 7 3 8 |\n",
            "| 7 4 6 | 3 5 8 | 9 2   |\n",
            "| 9 8 3 | 2 7   | 4 5 6 |\n",
            "+-------+-------+-------+\n",
            "| 1 7 5 | 9 6 2 | 8 4 3 |\n",
            "| 3 6 4 | 8 1 5 | 2 7 9 |\n",
            "| 8 2   | 7 3 4 | 1 6 5 |\n",
            "+-------+-------+-------+\n",
            "| 5 1 7 | 4 8 3 | 6 9 2 |\n",
            "| 6 3 2 | 1 9 7 | 5 8 4 |\n",
            "| 4 9 8 | 5 2 6 | 3 1 7 |\n",
            "+-------+-------+-------+\n",
            "\n"
          ]
        }
      ]
    },
    {
      "cell_type": "code",
      "source": [
        "puzzle_medium = Sudoku(3).difficulty(0.15)\n",
        "show_board(puzzle_medium.board)"
      ],
      "metadata": {
        "id": "EFdsYuiZPvAR",
        "colab": {
          "base_uri": "https://localhost:8080/"
        },
        "outputId": "1e8705e7-8310-476f-8391-6284ff904a5e"
      },
      "id": "EFdsYuiZPvAR",
      "execution_count": null,
      "outputs": [
        {
          "output_type": "stream",
          "name": "stdout",
          "text": [
            "+-------+-------+-------+\n",
            "| 2 5 1 | 6 4   | 7 3 8 |\n",
            "| 7 4 6 | 3 5 8 | 9 2   |\n",
            "| 9 8 3 | 2 7   | 4 5 6 |\n",
            "+-------+-------+-------+\n",
            "|   7 5 |   6 2 | 8 4 3 |\n",
            "| 3   4 |   1 5 | 2 7 9 |\n",
            "| 8 2   | 7 3   | 1 6 5 |\n",
            "+-------+-------+-------+\n",
            "| 5 1 7 | 4 8   | 6 9 2 |\n",
            "| 6 3 2 | 1   7 | 5 8 4 |\n",
            "| 4 9 8 |   2 6 | 3 1 7 |\n",
            "+-------+-------+-------+\n",
            "\n"
          ]
        }
      ]
    },
    {
      "cell_type": "code",
      "source": [
        "puzzle_hard = Sudoku(3).difficulty(0.25)\n",
        "show_board(puzzle_hard.board)"
      ],
      "metadata": {
        "id": "VyFDMhK4P5k2",
        "colab": {
          "base_uri": "https://localhost:8080/"
        },
        "outputId": "a22d3980-72b9-426d-9a6e-eb271c982395"
      },
      "id": "VyFDMhK4P5k2",
      "execution_count": null,
      "outputs": [
        {
          "output_type": "stream",
          "name": "stdout",
          "text": [
            "+-------+-------+-------+\n",
            "| 2 5 1 | 6 4   | 7 3   |\n",
            "| 7   6 | 3 5 8 |   2   |\n",
            "| 9 8 3 | 2 7   | 4 5 6 |\n",
            "+-------+-------+-------+\n",
            "|   7 5 |   6 2 | 8 4 3 |\n",
            "| 3   4 |   1 5 |   7   |\n",
            "| 8 2   | 7 3   | 1 6 5 |\n",
            "+-------+-------+-------+\n",
            "| 5   7 | 4 8   | 6 9 2 |\n",
            "| 6   2 | 1     | 5 8 4 |\n",
            "| 4 9 8 |   2 6 | 3 1 7 |\n",
            "+-------+-------+-------+\n",
            "\n"
          ]
        }
      ]
    },
    {
      "cell_type": "code",
      "source": [
        "puzzle_veryhard = Sudoku(3).difficulty(0.3)\n",
        "show_board(puzzle_veryhard.board)"
      ],
      "metadata": {
        "id": "eiL8tyMVT6cD",
        "colab": {
          "base_uri": "https://localhost:8080/"
        },
        "outputId": "292b3aae-5924-4f9a-e7a7-a4e2b03b9212"
      },
      "id": "eiL8tyMVT6cD",
      "execution_count": null,
      "outputs": [
        {
          "output_type": "stream",
          "name": "stdout",
          "text": [
            "+-------+-------+-------+\n",
            "| 2 5 1 | 6 4   | 7 3   |\n",
            "| 7     | 3 5 8 |   2   |\n",
            "| 9 8 3 | 2 7   | 4 5 6 |\n",
            "+-------+-------+-------+\n",
            "|   7 5 |   6 2 | 8 4 3 |\n",
            "| 3   4 |   1 5 |   7   |\n",
            "| 8 2   | 7 3   | 1 6   |\n",
            "+-------+-------+-------+\n",
            "| 5   7 | 4 8   | 6 9   |\n",
            "| 6   2 |       | 5 8 4 |\n",
            "| 4 9 8 |   2 6 | 3 1 7 |\n",
            "+-------+-------+-------+\n",
            "\n"
          ]
        }
      ]
    },
    {
      "cell_type": "code",
      "execution_count": null,
      "metadata": {
        "id": "faeeff36",
        "scrolled": false,
        "colab": {
          "base_uri": "https://localhost:8080/",
          "height": 722
        },
        "outputId": "56c6b252-477d-48e3-b10f-43e066b6c0e1"
      },
      "outputs": [
        {
          "output_type": "stream",
          "name": "stdout",
          "text": [
            "0 1\n",
            "solved\n",
            "+-------+-------+-------+\n",
            "| 2 5 1 | 6 4 9 | 7 3 8 |\n",
            "| 7 4 6 | 3 5 8 | 9 2 1 |\n",
            "| 9 8 3 | 2 7 1 | 4 5 6 |\n",
            "+-------+-------+-------+\n",
            "| 1 7 5 | 9 6 2 | 8 4 3 |\n",
            "| 3 6 4 | 8 1 5 | 2 7 9 |\n",
            "| 8 2 9 | 7 3 4 | 1 6 5 |\n",
            "+-------+-------+-------+\n",
            "| 5 1 7 | 4 8 3 | 6 9 2 |\n",
            "| 6 3 2 | 1 9 7 | 5 8 4 |\n",
            "| 4 9 8 | 5 2 6 | 3 1 7 |\n",
            "+-------+-------+-------+\n",
            "\n"
          ]
        },
        {
          "output_type": "display_data",
          "data": {
            "text/plain": [
              "<Figure size 640x480 with 1 Axes>"
            ],
            "image/png": "[encoded data removed]"
          },
          "metadata": {}
        }
      ],
      "source": [
        "solved, runs = brute_force(puzzle_easy.board)\n",
        "plt.plot([i for i in range(len(runs))], runs)\n",
        "plt.show()"
      ],
      "id": "faeeff36"
    },
    {
      "cell_type": "code",
      "source": [
        "solved, runs = brute_force(puzzle_medium.board)\n",
        "plt.plot([i for i in range(len(runs))], runs)\n",
        "plt.show()"
      ],
      "metadata": {
        "id": "ElGMa0XaRJsg",
        "colab": {
          "base_uri": "https://localhost:8080/",
          "height": 722
        },
        "outputId": "b979182b-b131-4d8f-c4fe-1f01505582c5"
      },
      "id": "ElGMa0XaRJsg",
      "execution_count": null,
      "outputs": [
        {
          "output_type": "stream",
          "name": "stdout",
          "text": [
            "0 1\n",
            "solved\n",
            "+-------+-------+-------+\n",
            "| 2 5 1 | 6 4 9 | 7 3 8 |\n",
            "| 7 4 6 | 3 5 8 | 9 2 1 |\n",
            "| 9 8 3 | 2 7 1 | 4 5 6 |\n",
            "+-------+-------+-------+\n",
            "| 1 7 5 | 9 6 2 | 8 4 3 |\n",
            "| 3 6 4 | 8 1 5 | 2 7 9 |\n",
            "| 8 2 9 | 7 3 4 | 1 6 5 |\n",
            "+-------+-------+-------+\n",
            "| 5 1 7 | 4 8 3 | 6 9 2 |\n",
            "| 6 3 2 | 1 9 7 | 5 8 4 |\n",
            "| 4 9 8 | 5 2 6 | 3 1 7 |\n",
            "+-------+-------+-------+\n",
            "\n"
          ]
        },
        {
          "output_type": "display_data",
          "data": {
            "text/plain": [
              "<Figure size 640x480 with 1 Axes>"
            ],
            "image/png": "[encoded data removed]"
          },
          "metadata": {}
        }
      ]
    },
    {
      "cell_type": "code",
      "source": [
        "solved, runs = brute_force(puzzle_hard.board)\n",
        "plt.plot([i for i in range(len(runs))], runs)\n",
        "plt.show()"
      ],
      "metadata": {
        "id": "bi7T-0gjRLrT",
        "colab": {
          "base_uri": "https://localhost:8080/",
          "height": 708
        },
        "outputId": "a889dc4e-fd4f-4da2-8c07-32f662adada0"
      },
      "id": "bi7T-0gjRLrT",
      "execution_count": null,
      "outputs": [
        {
          "output_type": "stream",
          "name": "stdout",
          "text": [
            "0 1\n",
            "solved\n",
            "+-------+-------+-------+\n",
            "| 2 7 8 | 4 6 1 | 5 9 3 |\n",
            "| 6 4 9 | 7 5 3 | 2 1 8 |\n",
            "| 1 3 5 | 8 9 2 | 4 6 7 |\n",
            "+-------+-------+-------+\n",
            "| 9 5 1 | 2 8 6 | 3 7 4 |\n",
            "| 7 2 6 | 3 4 9 | 8 5 1 |\n",
            "| 3 8 4 | 1 7 5 | 6 2 9 |\n",
            "+-------+-------+-------+\n",
            "| 5 1 7 | 6 3 4 | 9 8 2 |\n",
            "| 8 6 3 | 9 2 7 | 1 4 5 |\n",
            "| 4 9 2 | 5 1 8 | 7 3 6 |\n",
            "+-------+-------+-------+\n",
            "\n"
          ]
        },
        {
          "output_type": "display_data",
          "data": {
            "text/plain": [
              "<Figure size 640x480 with 1 Axes>"
            ],
            "image/png": "[encoded data removed]"
          },
          "metadata": {}
        }
      ]
    },
    {
      "cell_type": "code",
      "execution_count": null,
      "metadata": {
        "id": "a6ba32b9",
        "colab": {
          "base_uri": "https://localhost:8080/",
          "height": 708
        },
        "outputId": "c94d9449-aef6-4e16-e77b-31ef4e5c5f49"
      },
      "outputs": [
        {
          "output_type": "stream",
          "name": "stdout",
          "text": [
            "0 1\n",
            "solved\n",
            "+-------+-------+-------+\n",
            "| 2 7 8 | 4 6 1 | 5 9 3 |\n",
            "| 6 4 9 | 7 5 3 | 2 1 8 |\n",
            "| 1 3 5 | 8 9 2 | 4 6 7 |\n",
            "+-------+-------+-------+\n",
            "| 9 5 1 | 2 8 6 | 3 7 4 |\n",
            "| 7 2 6 | 3 4 9 | 8 5 1 |\n",
            "| 3 8 4 | 1 7 5 | 6 2 9 |\n",
            "+-------+-------+-------+\n",
            "| 5 1 7 | 6 3 4 | 9 8 2 |\n",
            "| 8 6 3 | 9 2 7 | 1 4 5 |\n",
            "| 4 9 2 | 5 1 8 | 7 3 6 |\n",
            "+-------+-------+-------+\n",
            "\n"
          ]
        },
        {
          "output_type": "display_data",
          "data": {
            "text/plain": [
              "<Figure size 640x480 with 1 Axes>"
            ],
            "image/png": "[encoded data removed]"
          },
          "metadata": {}
        }
      ],
      "source": [
        "solved, runs = brute_force(puzzle_veryhard.board)\n",
        "plt.plot([i for i in range(len(runs))], runs)\n",
        "plt.show()"
      ],
      "id": "a6ba32b9"
    }
  ],
  "metadata": {
    "colab": {
      "provenance": [],
      "include_colab_link": true
    },
    "kernelspec": {
      "display_name": "Python 3",
      "language": "python",
      "name": "python3"
    },
    "language_info": {
      "codemirror_mode": {
        "name": "ipython",
        "version": 3
      },
      "file_extension": ".py",
      "mimetype": "text/x-python",
      "name": "python",
      "nbconvert_exporter": "python",
      "pygments_lexer": "ipython3",
      "version": "3.9.6"
    }
  },
  "nbformat": 4,
  "nbformat_minor": 5
}